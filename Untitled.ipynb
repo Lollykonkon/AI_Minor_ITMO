{
 "cells": [
  {
   "cell_type": "code",
   "execution_count": 1,
   "id": "c9a562da-5476-4b09-884e-3128a058ad7b",
   "metadata": {},
   "outputs": [],
   "source": [
    "class Chocolate:\n",
    "    def __init__(self, price: float, addition: str = None, has_nuts: bool = False, nuts_count: int = 0):\n",
    "        \"\"\"\n",
    "        Инициализация шоколадного батончика\n",
    "        \n",
    "        Args:\n",
    "            price: Цена батончика (должна быть больше нуля)\n",
    "            addition: Добавка к шоколаду (необязательно)\n",
    "            has_nuts: Наличие орехов\n",
    "            nuts_count: Количество орехов\n",
    "            \n",
    "        Raises:\n",
    "            ValueError: Если цена меньше или равна нулю\n",
    "        \"\"\"\n",
    "        if price <= 0:\n",
    "            raise ValueError(\"Цена должна быть больше нуля\")\n",
    "        \n",
    "        self.price = price\n",
    "        self.addition = addition\n",
    "        self.has_nuts = has_nuts\n",
    "        self.nuts_count = nuts_count"
   ]
  },
  {
   "cell_type": "code",
   "execution_count": 2,
   "id": "067ac97e-71fe-4cc5-9f63-9185787828e3",
   "metadata": {},
   "outputs": [],
   "source": [
    "def show_my_chocolate(self):\n",
    "    \"\"\"Вывод информации о шоколадном батончике\"\"\"\n",
    "    if self.addition:\n",
    "        print(f\"Шоколадный батончик, добавка: {self.addition}\")\n",
    "    else:\n",
    "        print(\"Обычный шоколадный батончик\")\n",
    "\n",
    "def count_nuts(self):\n",
    "    \"\"\"Вывод количества орехов в виде звездочек\"\"\"\n",
    "    print(\"*\" * self.nuts_count)\n",
    "\n",
    "def __str__(self):\n",
    "    \"\"\"Строковое представление объекта\"\"\"\n",
    "    return f\"Шоколадный батончик, {self.price} рублей\"\n"
   ]
  },
  {
   "cell_type": "code",
   "execution_count": 3,
   "id": "70d0d6a8-5b7a-4110-b6d0-f762aa704c52",
   "metadata": {},
   "outputs": [],
   "source": [
    "# Функция для получения числового ввода с проверкой\n",
    "def get_number_input(prompt: str, min_value: float = None, max_value: float = None) -> float:\n",
    "    while True:\n",
    "        try:\n",
    "            value = float(input(prompt))\n",
    "            if min_value is not None and value < min_value:\n",
    "                print(f\"Значение должно быть не меньше {min_value}\")\n",
    "                continue\n",
    "            if max_value is not None and value > max_value:\n",
    "                print(f\"Значение должно быть не больше {max_value}\")\n",
    "                continue\n",
    "            return value\n",
    "        except ValueError:\n",
    "            print(\"Пожалуйста, введите корректное число\")\n",
    "\n",
    "# Функция для получения логического значения\n",
    "def get_bool_input(prompt: str) -> bool:\n",
    "    while True:\n",
    "        value = input(prompt).lower()\n",
    "        if value in ['да', 'yes', 'y', '1', 'true']:\n",
    "            return True\n",
    "        if value in ['нет', 'no', 'n', '0', 'false']:\n",
    "            return False\n",
    "        print(\"Пожалуйста, введите 'да' или 'нет'\")"
   ]
  },
  {
   "cell_type": "code",
   "execution_count": 4,
   "id": "dc014937-9f15-48c9-af9b-d06703ad5c51",
   "metadata": {},
   "outputs": [],
   "source": [
    "# Функция для создания шоколадного батончика с пользовательским вводом\n",
    "def create_chocolate():\n",
    "    print(\"\\nСоздание нового шоколадного батончика:\")\n",
    "    \n",
    "    # Получаем цену\n",
    "    price = get_number_input(\"Введите цену батончика (рубли): \", min_value=0.01)\n",
    "    \n",
    "    # Получаем добавку\n",
    "    addition = input(\"Введите добавку (или нажмите Enter для пропуска): \")\n",
    "    if addition.strip() == \"\":\n",
    "        addition = None\n",
    "    \n",
    "    # Получаем информацию об орехах\n",
    "    has_nuts = get_bool_input(\"Есть ли орехи? (да/нет): \")\n",
    "    \n",
    "    # Если есть орехи, получаем их количество\n",
    "    nuts_count = 0\n",
    "    if has_nuts:\n",
    "        nuts_count = int(get_number_input(\"Введите количество орехов: \", min_value=0))\n",
    "    \n",
    "    # Создаем и возвращаем объект шоколадного батончика\n",
    "    return Chocolate(price, addition, has_nuts, nuts_count)\n"
   ]
  },
  {
   "cell_type": "code",
   "execution_count": 6,
   "id": "f3baf07d-022e-4948-b41b-ba73ccd2de36",
   "metadata": {},
   "outputs": [
    {
     "name": "stdout",
     "output_type": "stream",
     "text": [
      "\n",
      "Создание нового шоколадного батончика:\n"
     ]
    },
    {
     "name": "stdin",
     "output_type": "stream",
     "text": [
      "Введите цену батончика (рубли):  1\n",
      "Введите добавку (или нажмите Enter для пропуска):  \n",
      "Есть ли орехи? (да/нет):  0\n"
     ]
    },
    {
     "ename": "AttributeError",
     "evalue": "'Chocolate' object has no attribute 'show_my_chocolate'",
     "output_type": "error",
     "traceback": [
      "\u001b[0;31m---------------------------------------------------------------------------\u001b[0m",
      "\u001b[0;31mAttributeError\u001b[0m                            Traceback (most recent call last)",
      "Cell \u001b[0;32mIn[6], line 4\u001b[0m\n\u001b[1;32m      2\u001b[0m \u001b[38;5;28;01mtry\u001b[39;00m:\n\u001b[1;32m      3\u001b[0m     chocolate \u001b[38;5;241m=\u001b[39m create_chocolate()\n\u001b[0;32m----> 4\u001b[0m     \u001b[43mchocolate\u001b[49m\u001b[38;5;241;43m.\u001b[39;49m\u001b[43mshow_my_chocolate\u001b[49m()\n\u001b[1;32m      5\u001b[0m     \u001b[38;5;28;01mif\u001b[39;00m chocolate\u001b[38;5;241m.\u001b[39mhas_nuts:\n\u001b[1;32m      6\u001b[0m         chocolate\u001b[38;5;241m.\u001b[39mcount_nuts()\n",
      "\u001b[0;31mAttributeError\u001b[0m: 'Chocolate' object has no attribute 'show_my_chocolate'"
     ]
    }
   ],
   "source": [
    "# Демонстрация использования\n",
    "try:\n",
    "    chocolate = create_chocolate()\n",
    "    chocolate.show_my_chocolate()\n",
    "    if chocolate.has_nuts:\n",
    "        chocolate.count_nuts()\n",
    "    print(\"\\n\" + str(chocolate))\n",
    "    \n",
    "except ValueError as e:\n",
    "    print(f\"Ошибка: {e}\")"
   ]
  },
  {
   "cell_type": "code",
   "execution_count": null,
   "id": "54c4cf3c-879e-440e-9356-61481ec94f68",
   "metadata": {},
   "outputs": [],
   "source": []
  }
 ],
 "metadata": {
  "kernelspec": {
   "display_name": "Python 3 (ipykernel)",
   "language": "python",
   "name": "python3"
  },
  "language_info": {
   "codemirror_mode": {
    "name": "ipython",
    "version": 3
   },
   "file_extension": ".py",
   "mimetype": "text/x-python",
   "name": "python",
   "nbconvert_exporter": "python",
   "pygments_lexer": "ipython3",
   "version": "3.12.3"
  }
 },
 "nbformat": 4,
 "nbformat_minor": 5
}
