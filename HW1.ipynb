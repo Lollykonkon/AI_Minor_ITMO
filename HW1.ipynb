{
 "cells": [
  {
   "cell_type": "code",
   "execution_count": 1,
   "id": "ba51169f-bb6e-429a-8022-5c251de6088d",
   "metadata": {},
   "outputs": [],
   "source": [
    "class Chocolate:\n",
    "    def __init__(self, price: float, additive: str = None, has_nuts: bool = False, nut_count: int = 0):\n",
    "        \"\"\"\n",
    "        Инициализация шоколадного батончика\n",
    "        \n",
    "        Args:\n",
    "            price: Цена батончика (float > 0)\n",
    "            additive: Добавка к шоколаду (строка или None)\n",
    "            has_nuts: Наличие орехов (bool)\n",
    "            nut_count: Количество орехов (int >= 0)\n",
    "        \n",
    "        Raises:\n",
    "            ValueError: Если цена <= 0\n",
    "        \"\"\"\n",
    "        if price <= 0:\n",
    "            raise ValueError(\"Цена должна быть больше нуля!\")\n",
    "            \n",
    "        self.price = price\n",
    "        self.additive = additive\n",
    "        self.has_nuts = has_nuts\n",
    "        self.nut_count = nut_count\n",
    "        \n",
    "    def show_my_chocolate(self):\n",
    "        \"\"\"Показывает информацию о шоколадном батончике\"\"\"\n",
    "        if self.additive:\n",
    "            print(f\"Шоколадный батончик, добавка: {self.additive}\")\n",
    "        else:\n",
    "            print(\"Обычный шоколадный батончик\")\n",
    "    \n",
    "    def count_nuts(self):\n",
    "        \"\"\"Выводит количество орехов в виде звездочек\"\"\"\n",
    "        print(\"*\" * self.nut_count)\n",
    "    \n",
    "    def __str__(self):\n",
    "        \"\"\"Строковое представление объекта\"\"\"\n",
    "        return f\"Шоколадный батончик, {self.price} рублей\""
   ]
  },
  {
   "cell_type": "code",
   "execution_count": 2,
   "id": "32aad4b8-db80-4ed9-81ed-8a23ca42fd64",
   "metadata": {},
   "outputs": [],
   "source": [
    "# Функция для получения числового ввода с проверкой\n",
    "def get_number_input(prompt: str, min_value: float = None, max_value: float = None) -> float:\n",
    "    while True:\n",
    "        try:\n",
    "            value = float(input(prompt))\n",
    "            if min_value is not None and value < min_value:\n",
    "                print(f\"Значение должно быть не меньше {min_value}\")\n",
    "                continue\n",
    "            if max_value is not None and value > max_value:\n",
    "                print(f\"Значение должно быть не больше {max_value}\")\n",
    "                continue\n",
    "            return value\n",
    "        except ValueError:\n",
    "            print(\"Пожалуйста, введите корректное число\")\n",
    "\n",
    "# Функция для получения логического значения\n",
    "def get_bool_input(prompt: str) -> bool:\n",
    "    while True:\n",
    "        value = input(prompt).lower()\n",
    "        if value in ['да', 'yes', 'y', '1', 'true']:\n",
    "            return True\n",
    "        if value in ['нет', 'no', 'n', '0', 'false']:\n",
    "            return False\n",
    "        print(\"Пожалуйста, введите 'да' или 'нет'\")"
   ]
  },
  {
   "cell_type": "code",
   "execution_count": 3,
   "id": "7462e918-1329-4472-956c-997a11b20567",
   "metadata": {},
   "outputs": [],
   "source": [
    "# Функция для создания шоколадного батончика с пользовательским вводом\n",
    "def create_chocolate():\n",
    "    print(\"\\nСоздание нового шоколадного батончика:\")\n",
    "    \n",
    "    # Получаем цену\n",
    "    price = get_number_input(\"Введите цену батончика (рубли): \", min_value=0.01)\n",
    "    \n",
    "    # Получаем добавку\n",
    "    addition = input(\"Введите добавку (или нажмите Enter для пропуска): \")\n",
    "    if addition.strip() == \"\":\n",
    "        addition = None\n",
    "    \n",
    "    # Получаем информацию об орехах\n",
    "    has_nuts = get_bool_input(\"Есть ли орехи? (да/нет): \")\n",
    "    \n",
    "    # Если есть орехи, получаем их количество\n",
    "    nuts_count = 0\n",
    "    if has_nuts:\n",
    "        nuts_count = int(get_number_input(\"Введите количество орехов: \", min_value=0))\n",
    "    \n",
    "    # Создаем и возвращаем объект шоколадного батончика\n",
    "    return Chocolate(price, addition, has_nuts, nuts_count)\n"
   ]
  },
  {
   "cell_type": "code",
   "execution_count": 4,
   "id": "85ec817d-022c-4e01-bd16-3b1426f12181",
   "metadata": {},
   "outputs": [
    {
     "name": "stdout",
     "output_type": "stream",
     "text": [
      "\n",
      "Создание нового шоколадного батончика:\n"
     ]
    },
    {
     "name": "stdin",
     "output_type": "stream",
     "text": [
      "Введите цену батончика (рубли):  100\n",
      "Введите добавку (или нажмите Enter для пропуска):  Nuts\n",
      "Есть ли орехи? (да/нет):  y\n",
      "Введите количество орехов:  5\n"
     ]
    },
    {
     "name": "stdout",
     "output_type": "stream",
     "text": [
      "Шоколадный батончик, добавка: Nuts\n",
      "*****\n",
      "\n",
      "Шоколадный батончик, 100.0 рублей\n"
     ]
    }
   ],
   "source": [
    "# Демонстрация использования\n",
    "try:\n",
    "    chocolate = create_chocolate()\n",
    "    chocolate.show_my_chocolate()\n",
    "    if chocolate.has_nuts:\n",
    "        chocolate.count_nuts()\n",
    "    print(\"\\n\" + str(chocolate))\n",
    "    \n",
    "except ValueError as e:\n",
    "    print(f\"Ошибка: {e}\")"
   ]
  }
 ],
 "metadata": {
  "kernelspec": {
   "display_name": "Python 3 (ipykernel)",
   "language": "python",
   "name": "python3"
  },
  "language_info": {
   "codemirror_mode": {
    "name": "ipython",
    "version": 3
   },
   "file_extension": ".py",
   "mimetype": "text/x-python",
   "name": "python",
   "nbconvert_exporter": "python",
   "pygments_lexer": "ipython3",
   "version": "3.12.3"
  }
 },
 "nbformat": 4,
 "nbformat_minor": 5
}
